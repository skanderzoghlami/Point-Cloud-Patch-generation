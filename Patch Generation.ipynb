{
 "cells": [
  {
   "cell_type": "markdown",
   "id": "e5b682ee",
   "metadata": {},
   "source": [
    "# Patch Generation : \n",
    "## FPS Modification : "
   ]
  },
  {
   "cell_type": "code",
   "execution_count": 48,
   "id": "1ae70c9b",
   "metadata": {},
   "outputs": [],
   "source": [
    "import open3d as o3d\n",
    "import os\n",
    "path = \"../experiment/test/redandblack/predlift/r01/redandblack.ply.bin.decoded.ply\"\n",
    "import numpy as np\n",
    "from pyntcloud import PyntCloud\n",
    "\n",
    "def fps(points, n_samples):\n",
    "    '''\n",
    "    Description : This function takes as input the full Point cloud, and\n",
    "    returns n_samples sampled points using the FPS algorithm\n",
    "    '''\n",
    "    # Represent the points by their indices in points\n",
    "    points_left = np.arange(len(points)) # [P]\n",
    "\n",
    "    # Initialise an array for the sampled indices\n",
    "    sample_inds = np.zeros(n_samples, dtype='int') # [S]\n",
    "\n",
    "    # Initialise distances to inf\n",
    "    dists = np.ones_like(points_left) * float('inf') # [P]\n",
    "\n",
    "    # Select a point from points by its index, save it\n",
    "    selected = 0\n",
    "    sample_inds[0] = points_left[selected]\n",
    "\n",
    "    # Delete selected \n",
    "    points_left = np.delete(points_left, selected) # [P - 1]\n",
    "\n",
    "    # Iteratively select points for a maximum of n_samples\n",
    "    for i in range(1, n_samples):\n",
    "        # Find the distance to the last added point in selected\n",
    "        # and all the others\n",
    "        last_added = sample_inds[i-1]\n",
    "        \n",
    "        dist_to_last_added_point = (\n",
    "            (points[last_added][0:3] - points[points_left][:,0:3])**2).sum(-1) # [P - i]\n",
    "        # If closer, updated distances\n",
    "        dists[points_left] = np.minimum(dist_to_last_added_point, \n",
    "                                        dists[points_left]) # [P - i]\n",
    "\n",
    "        # We want to pick the one that has the largest nearest neighbour\n",
    "        # distance to the sampled points\n",
    "        selected = np.argmax(dists[points_left])\n",
    "        sample_inds[i] = points_left[selected]\n",
    "\n",
    "        # Update points_left\n",
    "        points_left = np.delete(points_left, selected)\n",
    "\n",
    "    return points[sample_inds]"
   ]
  },
  {
   "cell_type": "code",
   "execution_count": 3,
   "id": "65713355",
   "metadata": {},
   "outputs": [
    {
     "name": "stdout",
     "output_type": "stream",
     "text": [
      "[Open3D WARNING] Read PLY failed: unable to read file: ../experiment/test/redandblack/predlift/r01/redandblack.ply.bin.decoded.ply\n",
      "PointCloud with 757691 points.\n"
     ]
    }
   ],
   "source": [
    "# Reading the point cloud using PCD\n",
    "pcd = o3d.io.read_point_cloud(\"../experiment/test/redandblack/predlift/r01/redandblack.ply.bin.decoded.ply\")\n",
    "print(pcd)\n",
    "o3d.visualization.draw_geometries([pcd])"
   ]
  },
  {
   "cell_type": "code",
   "execution_count": 4,
   "id": "e3b93837",
   "metadata": {},
   "outputs": [],
   "source": [
    "pcd_xyz = np.asarray(pcd.points)\n",
    "pcd_rgb = np.asarray(pcd.colors)"
   ]
  },
  {
   "cell_type": "code",
   "execution_count": 5,
   "id": "e32834b8",
   "metadata": {},
   "outputs": [],
   "source": [
    "full_pc = np.concatenate((pcd_xyz,pcd_rgb),axis=1)"
   ]
  },
  {
   "cell_type": "code",
   "execution_count": 50,
   "id": "d017265c",
   "metadata": {},
   "outputs": [],
   "source": [
    "points = fps(full_pc,1000)"
   ]
  },
  {
   "cell_type": "code",
   "execution_count": 54,
   "id": "5d459163",
   "metadata": {},
   "outputs": [],
   "source": [
    "pcd2 = o3d.geometry.PointCloud()\n",
    "pcd2.points = o3d.utility.Vector3dVector(points[:,0:3])\n",
    "pcd2.colors = o3d.utility.Vector3dVector(points[:,3:6])\n",
    "o3d.io.write_point_cloud(\"sampled.ply\", pcd2)\n",
    "\n",
    "    # Load saved point cloud and visualize it\n",
    "pcd_load = o3d.io.read_point_cloud(\"sampled.ply\")\n",
    "o3d.visualization.draw_geometries([pcd_load])"
   ]
  },
  {
   "cell_type": "markdown",
   "id": "236cc8fe",
   "metadata": {},
   "source": [
    "## Nearest Neighbours Search : "
   ]
  },
  {
   "cell_type": "code",
   "execution_count": 130,
   "id": "7e6037d5",
   "metadata": {},
   "outputs": [],
   "source": [
    "def fps_nn(full_pc , sampled_pc , nn=2048):\n",
    "    '''\n",
    "    Description : This function takes as input the full Point cloud, a set of sampled\n",
    "    points and the number of neighbours desired for each patch.\n",
    "    It returns the nn indexes of nearest points to the sampled points\n",
    "    '''\n",
    "    patches = []\n",
    "    for point in sampled_pc : # [ns , 6]\n",
    "        # Calculate distances\n",
    "        dists = ((point[0:3] - full_pc[:,0:3])**2).sum(-1)\n",
    "        patch = sorted(enumerate(dists), key=lambda i: i[1])\n",
    "        patches.append(patch[0:2048])\n",
    "    return patches\n",
    "patches_indexes = fps_nn(full_pc,points)"
   ]
  },
  {
   "cell_type": "code",
   "execution_count": 136,
   "id": "94ebfe2f",
   "metadata": {},
   "outputs": [
    {
     "data": {
      "text/plain": [
       "list"
      ]
     },
     "execution_count": 136,
     "metadata": {},
     "output_type": "execute_result"
    }
   ],
   "source": [
    "type(patches_indexes)"
   ]
  },
  {
   "cell_type": "code",
   "execution_count": 117,
   "id": "94732f82",
   "metadata": {},
   "outputs": [
    {
     "data": {
      "text/plain": [
       "array([2.92000000e+02, 1.50000000e+01, 1.95000000e+02, 0.00000000e+00,\n",
       "       1.84313725e-01, 1.33333333e-01])"
      ]
     },
     "execution_count": 117,
     "metadata": {},
     "output_type": "execute_result"
    }
   ],
   "source": [
    "full_pc[0]"
   ]
  },
  {
   "cell_type": "code",
   "execution_count": 154,
   "id": "add2fe35",
   "metadata": {},
   "outputs": [],
   "source": [
    "import pickle\n",
    "\n",
    "def write_list(a_list):\n",
    "    # store list in binary file so 'wb' mode\n",
    "    with open('listfile', 'wb') as fp:\n",
    "        pickle.dump(names, fp)\n",
    "        print('Done writing list into a binary file')\n",
    "\n",
    "# Read list to memory\n",
    "def read_list():\n",
    "    # for reading also binary mode is important\n",
    "    with open('listfile', 'rb') as fp:\n",
    "        n_list = pickle.load(fp)\n",
    "        return n_list"
   ]
  },
  {
   "cell_type": "code",
   "execution_count": 152,
   "id": "c5f66434",
   "metadata": {},
   "outputs": [
    {
     "name": "stdout",
     "output_type": "stream",
     "text": [
      "Done writing list into a binary file\n"
     ]
    }
   ],
   "source": [
    "write_list(patches_indexes)"
   ]
  },
  {
   "cell_type": "code",
   "execution_count": null,
   "id": "1f0a06d3",
   "metadata": {},
   "outputs": [],
   "source": [
    "r_names = read_list()\n",
    "print('List is', r_names)"
   ]
  },
  {
   "cell_type": "code",
   "execution_count": 167,
   "id": "a51eec14",
   "metadata": {},
   "outputs": [],
   "source": [
    "patches = []\n",
    "for patch_index_i in patches_indexes:\n",
    "    small_patch =[]\n",
    "    for index in patch_index_i :\n",
    "        small_patch.append(full_pc[index[0]].tolist())\n",
    "    patches.append(small_patch)"
   ]
  },
  {
   "cell_type": "code",
   "execution_count": 172,
   "id": "3b02f4fd",
   "metadata": {},
   "outputs": [],
   "source": [
    "np_patches = np.asarray(patches)"
   ]
  },
  {
   "cell_type": "code",
   "execution_count": 186,
   "id": "dfa17a2c",
   "metadata": {},
   "outputs": [
    {
     "name": "stdout",
     "output_type": "stream",
     "text": [
      "[Open3D WARNING] GLFW Error: WGL: Failed to make context current: The handle is invalid. \n"
     ]
    }
   ],
   "source": [
    "pcd2 = o3d.geometry.PointCloud()\n",
    "pcd2.points = o3d.utility.Vector3dVector(np_patches[700][:,0:3])\n",
    "pcd2.colors = o3d.utility.Vector3dVector(np_patches[700][:,3:6])\n",
    "o3d.io.write_point_cloud(\"exp_patch.ply\", pcd2)\n",
    "    # Load saved point cloud and visualize it\n",
    "pcd_load = o3d.io.read_point_cloud(\"exp_patch.ply\")\n",
    "o3d.visualization.draw_geometries([pcd_load])"
   ]
  },
  {
   "cell_type": "code",
   "execution_count": 180,
   "id": "2927416c",
   "metadata": {},
   "outputs": [],
   "source": [
    "for i in range(0,len(np_patches)):\n",
    "    pc = o3d.geometry.PointCloud()\n",
    "    pc.points= o3d.utility.Vector3dVector(np_patches[i][:,0:3])\n",
    "    pc.colors= o3d.utility.Vector3dVector(np_patches[i][:,3:6])\n",
    "    name= \"red_black_patches/patch_\"+str(i)+\".ply\"\n",
    "    o3d.io.write_point_cloud(name, pc)"
   ]
  },
  {
   "cell_type": "code",
   "execution_count": null,
   "id": "2072c2d9",
   "metadata": {},
   "outputs": [],
   "source": []
  }
 ],
 "metadata": {
  "kernelspec": {
   "display_name": "Python 3 (ipykernel)",
   "language": "python",
   "name": "python3"
  },
  "language_info": {
   "codemirror_mode": {
    "name": "ipython",
    "version": 3
   },
   "file_extension": ".py",
   "mimetype": "text/x-python",
   "name": "python",
   "nbconvert_exporter": "python",
   "pygments_lexer": "ipython3",
   "version": "3.9.7"
  }
 },
 "nbformat": 4,
 "nbformat_minor": 5
}
